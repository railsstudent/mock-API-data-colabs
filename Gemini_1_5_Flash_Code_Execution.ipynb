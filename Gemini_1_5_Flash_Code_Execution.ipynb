{
  "nbformat": 4,
  "nbformat_minor": 0,
  "metadata": {
    "colab": {
      "provenance": []
    },
    "kernelspec": {
      "name": "python3",
      "display_name": "Python 3"
    },
    "language_info": {
      "name": "python"
    }
  },
  "cells": [
    {
      "cell_type": "markdown",
      "source": [
        "*Use Gemini API, Gemini 1.5 Flash to generate and run Python codes in single turn conversion and mult-turn conversation\n"
      ],
      "metadata": {
        "id": "-wB30V-7igDv"
      }
    },
    {
      "cell_type": "code",
      "execution_count": null,
      "metadata": {
        "id": "utXv0znmh12B"
      },
      "outputs": [],
      "source": [
        "%pip install --upgrade --user google-generativeai"
      ]
    },
    {
      "cell_type": "code",
      "source": [
        "# Restart kernel after installs so that your environment can access the new packages\n",
        "import IPython\n",
        "\n",
        "app = IPython.Application.instance()\n",
        "app.kernel.do_shutdown(True)"
      ],
      "metadata": {
        "id": "fd3H0e1oiwiH"
      },
      "execution_count": null,
      "outputs": []
    },
    {
      "cell_type": "markdown",
      "source": [
        "# Authenticate your notebook environment (Colab only)\n",
        "\n",
        "If you are running this notebook on Google Colab, you will need to authenticate your environment. To do this, run the new cell below. This step is not required if you are using Vertex AI Workbench."
      ],
      "metadata": {
        "id": "D-0cRE_bi09U"
      }
    },
    {
      "cell_type": "code",
      "source": [
        "import sys\n",
        "\n",
        "# Additional authentication is required for Google Colab\n",
        "if \"google.colab\" in sys.modules:\n",
        "    # Authenticate user to Google Cloud\n",
        "    from google.colab import auth\n",
        "\n",
        "    auth.authenticate_user()"
      ],
      "metadata": {
        "id": "ex1cjKt4i4dC"
      },
      "execution_count": 1,
      "outputs": []
    },
    {
      "cell_type": "markdown",
      "source": [
        "# Create a Gemini 1.5 Flash model"
      ],
      "metadata": {
        "id": "7Qd4gJl2FngE"
      }
    },
    {
      "cell_type": "code",
      "source": [
        "import google.generativeai as genai\n",
        "from google.colab import userdata\n",
        "\n",
        "api_key = userdata.get('GEMINI_API_KEY')\n",
        "\n",
        "generation_config = {\n",
        "  \"temperature\": 0.5,\n",
        "  \"top_p\": 0.7,\n",
        "  \"top_k\": 10,\n",
        "  \"max_output_tokens\": 2048,\n",
        "}\n",
        "\n",
        "genai.configure(api_key=api_key)\n",
        "\n",
        "model = genai.GenerativeModel(\n",
        "    model_name='gemini-1.5-pro',\n",
        "    generation_config=generation_config,\n",
        "    system_instruction=\"You are a computer programmer who can code, run, answer and explain simple coding problems\",\n",
        "    tools='code_execution')\n",
        "\n",
        "print(model)"
      ],
      "metadata": {
        "id": "sjrlzkYgjhdM"
      },
      "execution_count": null,
      "outputs": []
    },
    {
      "cell_type": "markdown",
      "source": [
        "# Start single-turn conversation\n",
        "- Ask the model to generate and run code to sort an array of numbers in an ascending order\n",
        "- Ask the model a general question\n",
        "- Source: https://ai.google.dev/gemini-api/docs/code-execution?lang=python"
      ],
      "metadata": {
        "id": "ses5NZcYIqOc"
      }
    },
    {
      "cell_type": "code",
      "source": [
        "response = model.generate_content('What is the capital of France?')\n",
        "\n",
        "print(response.text)\n",
        "\n",
        "response = model.generate_content(\n",
        "  \"\"\"\n",
        "    Please generate and run the code that sorts an array of numbers in ascending order.\n",
        "    Test the function with [3, 100, 10, 5, -1, 2].\n",
        "  \"\"\"\n",
        ")\n",
        "\n",
        "print(response.text)"
      ],
      "metadata": {
        "id": "y-tc_LnkJXDF"
      },
      "execution_count": null,
      "outputs": []
    },
    {
      "cell_type": "markdown",
      "source": [
        "# Start multi-turn conversation\n",
        "\n",
        "- Generate and run a function that find the longest and shortest strings in an array of string.\n",
        "- Generate and run a function that determines whether a number is a perfect square\n",
        "- Generate and run a function that returns the divisors of an integer, excluding 1 and itself"
      ],
      "metadata": {
        "id": "81fVbe80nhRR"
      }
    },
    {
      "cell_type": "code",
      "source": [
        "chat = model.start_chat(history=[])\n",
        "\n",
        "response = chat.send_message([\"\"\"Please generate and run a function that accepts a string array and returns the longest string and the shortest string.\"\"\"])\n",
        "\n",
        "print (response.text)\n",
        "\n",
        "response = chat.send_message([\"\"\"Use the function to find the result of [\"strawberry\", \"apple\", \"box\"])?\"\"\"])\n",
        "\n",
        "print (response.text)"
      ],
      "metadata": {
        "id": "KkAKFBPFnlzb"
      },
      "execution_count": null,
      "outputs": []
    },
    {
      "cell_type": "code",
      "source": [
        "response = chat.send_message([\"\"\"Please generate and run a function that determines whether a number is a perfect square.\n",
        "  When the input is not an integer, output an error message.\n",
        "  When the input is a perfect square, return a tuple where the first value is True and the second value is the square root.\n",
        "  When the input is nota perfect square, return a tuple where the first value is False.\n",
        "\"\"\"])\n",
        "\n",
        "print (response.text)"
      ],
      "metadata": {
        "id": "LvKzVrpFNvmE"
      },
      "execution_count": null,
      "outputs": []
    },
    {
      "cell_type": "code",
      "source": [
        "response = chat.send_message([\"\"\"\n",
        "  Please generate and run a function that returns the divisors of an integer, excluding 1 and itself.\n",
        "  Order the divisors in ascending order.\n",
        "\"\"\"])\n",
        "\n",
        "print (response.text)\n",
        "\n",
        "response = chat.send_message([\"\"\"\n",
        "  Use the function to find the result of 16?\n",
        "\"\"\"])\n",
        "\n",
        "print (response.text)\n",
        "\n",
        "response = chat.send_message([\"\"\"\n",
        "  Use the function to find the result of 66?\n",
        "\"\"\"])\n",
        "\n",
        "print (response.text)"
      ],
      "metadata": {
        "id": "VfcwST_SPMff"
      },
      "execution_count": null,
      "outputs": []
    },
    {
      "cell_type": "markdown",
      "source": [
        "#  Generate Fibonacchi number\n",
        "\n",
        "- Generate and run a function to calculate the nth fibonacchi number without using recursion"
      ],
      "metadata": {
        "id": "UPHUDVBBkruR"
      }
    },
    {
      "cell_type": "code",
      "source": [
        "response = chat.send_message([\"\"\"\n",
        "  Please generate and run a function to calculate the nth fibonacchi number without recursion and in dynamic programming.  The index of the first fibonacchi number is 0.\n",
        "  The 0th fibonacci number is 1, the 1st is 1, the 2nd fibonacchi number is 2 and so on.\n",
        "\"\"\"])\n",
        "\n",
        "print (response.text)"
      ],
      "metadata": {
        "id": "fPcpr9XKnwBc"
      },
      "execution_count": null,
      "outputs": []
    }
  ]
}