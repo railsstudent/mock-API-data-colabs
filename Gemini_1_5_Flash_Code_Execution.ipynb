{
  "nbformat": 4,
  "nbformat_minor": 0,
  "metadata": {
    "colab": {
      "provenance": []
    },
    "kernelspec": {
      "name": "python3",
      "display_name": "Python 3"
    },
    "language_info": {
      "name": "python"
    }
  },
  "cells": [
    {
      "cell_type": "markdown",
      "source": [
        "*Use Gemini API, Gemini 1.5 Flash to generate and run Python codes in single turn conversion and mult-turn conversation\n"
      ],
      "metadata": {
        "id": "-wB30V-7igDv"
      }
    },
    {
      "cell_type": "code",
      "execution_count": 1,
      "metadata": {
        "colab": {
          "base_uri": "https://localhost:8080/",
          "height": 721
        },
        "id": "utXv0znmh12B",
        "outputId": "8bebfbe9-fdbc-4660-98c7-308e037576b3"
      },
      "outputs": [
        {
          "output_type": "stream",
          "name": "stdout",
          "text": [
            "Requirement already satisfied: google-generativeai in /usr/local/lib/python3.10/dist-packages (0.5.4)\n",
            "Collecting google-generativeai\n",
            "  Downloading google_generativeai-0.7.1-py3-none-any.whl (163 kB)\n",
            "\u001b[2K     \u001b[90m━━━━━━━━━━━━━━━━━━━━━━━━━━━━━━━━━━━━━━━━\u001b[0m \u001b[32m163.9/163.9 kB\u001b[0m \u001b[31m1.6 MB/s\u001b[0m eta \u001b[36m0:00:00\u001b[0m\n",
            "\u001b[?25hCollecting google-ai-generativelanguage==0.6.6 (from google-generativeai)\n",
            "  Downloading google_ai_generativelanguage-0.6.6-py3-none-any.whl (718 kB)\n",
            "\u001b[2K     \u001b[90m━━━━━━━━━━━━━━━━━━━━━━━━━━━━━━━━━━━━━━━━\u001b[0m \u001b[32m718.3/718.3 kB\u001b[0m \u001b[31m23.1 MB/s\u001b[0m eta \u001b[36m0:00:00\u001b[0m\n",
            "\u001b[?25hRequirement already satisfied: google-api-core in /usr/local/lib/python3.10/dist-packages (from google-generativeai) (2.11.1)\n",
            "Requirement already satisfied: google-api-python-client in /usr/local/lib/python3.10/dist-packages (from google-generativeai) (2.84.0)\n",
            "Requirement already satisfied: google-auth>=2.15.0 in /usr/local/lib/python3.10/dist-packages (from google-generativeai) (2.27.0)\n",
            "Requirement already satisfied: protobuf in /usr/local/lib/python3.10/dist-packages (from google-generativeai) (3.20.3)\n",
            "Requirement already satisfied: pydantic in /usr/local/lib/python3.10/dist-packages (from google-generativeai) (2.7.4)\n",
            "Requirement already satisfied: tqdm in /usr/local/lib/python3.10/dist-packages (from google-generativeai) (4.66.4)\n",
            "Requirement already satisfied: typing-extensions in /usr/local/lib/python3.10/dist-packages (from google-generativeai) (4.12.2)\n",
            "Requirement already satisfied: proto-plus<2.0.0dev,>=1.22.3 in /usr/local/lib/python3.10/dist-packages (from google-ai-generativelanguage==0.6.6->google-generativeai) (1.24.0)\n",
            "Requirement already satisfied: cachetools<6.0,>=2.0.0 in /usr/local/lib/python3.10/dist-packages (from google-auth>=2.15.0->google-generativeai) (5.3.3)\n",
            "Requirement already satisfied: pyasn1-modules>=0.2.1 in /usr/local/lib/python3.10/dist-packages (from google-auth>=2.15.0->google-generativeai) (0.4.0)\n",
            "Requirement already satisfied: rsa<5,>=3.1.4 in /usr/local/lib/python3.10/dist-packages (from google-auth>=2.15.0->google-generativeai) (4.9)\n",
            "Requirement already satisfied: googleapis-common-protos<2.0.dev0,>=1.56.2 in /usr/local/lib/python3.10/dist-packages (from google-api-core->google-generativeai) (1.63.2)\n",
            "Requirement already satisfied: requests<3.0.0.dev0,>=2.18.0 in /usr/local/lib/python3.10/dist-packages (from google-api-core->google-generativeai) (2.31.0)\n",
            "Requirement already satisfied: httplib2<1dev,>=0.15.0 in /usr/local/lib/python3.10/dist-packages (from google-api-python-client->google-generativeai) (0.22.0)\n",
            "Requirement already satisfied: google-auth-httplib2>=0.1.0 in /usr/local/lib/python3.10/dist-packages (from google-api-python-client->google-generativeai) (0.1.1)\n",
            "Requirement already satisfied: uritemplate<5,>=3.0.1 in /usr/local/lib/python3.10/dist-packages (from google-api-python-client->google-generativeai) (4.1.1)\n",
            "Requirement already satisfied: annotated-types>=0.4.0 in /usr/local/lib/python3.10/dist-packages (from pydantic->google-generativeai) (0.7.0)\n",
            "Requirement already satisfied: pydantic-core==2.18.4 in /usr/local/lib/python3.10/dist-packages (from pydantic->google-generativeai) (2.18.4)\n",
            "Requirement already satisfied: grpcio<2.0dev,>=1.33.2 in /usr/local/lib/python3.10/dist-packages (from google-api-core->google-generativeai) (1.64.1)\n",
            "Requirement already satisfied: grpcio-status<2.0.dev0,>=1.33.2 in /usr/local/lib/python3.10/dist-packages (from google-api-core->google-generativeai) (1.48.2)\n",
            "Requirement already satisfied: pyparsing!=3.0.0,!=3.0.1,!=3.0.2,!=3.0.3,<4,>=2.4.2 in /usr/local/lib/python3.10/dist-packages (from httplib2<1dev,>=0.15.0->google-api-python-client->google-generativeai) (3.1.2)\n",
            "Requirement already satisfied: pyasn1<0.7.0,>=0.4.6 in /usr/local/lib/python3.10/dist-packages (from pyasn1-modules>=0.2.1->google-auth>=2.15.0->google-generativeai) (0.6.0)\n",
            "Requirement already satisfied: charset-normalizer<4,>=2 in /usr/local/lib/python3.10/dist-packages (from requests<3.0.0.dev0,>=2.18.0->google-api-core->google-generativeai) (3.3.2)\n",
            "Requirement already satisfied: idna<4,>=2.5 in /usr/local/lib/python3.10/dist-packages (from requests<3.0.0.dev0,>=2.18.0->google-api-core->google-generativeai) (3.7)\n",
            "Requirement already satisfied: urllib3<3,>=1.21.1 in /usr/local/lib/python3.10/dist-packages (from requests<3.0.0.dev0,>=2.18.0->google-api-core->google-generativeai) (2.0.7)\n",
            "Requirement already satisfied: certifi>=2017.4.17 in /usr/local/lib/python3.10/dist-packages (from requests<3.0.0.dev0,>=2.18.0->google-api-core->google-generativeai) (2024.6.2)\n",
            "Installing collected packages: google-ai-generativelanguage, google-generativeai\n",
            "Successfully installed google-ai-generativelanguage-0.6.6 google-generativeai-0.7.1\n"
          ]
        },
        {
          "output_type": "display_data",
          "data": {
            "application/vnd.colab-display-data+json": {
              "pip_warning": {
                "packages": [
                  "google"
                ]
              },
              "id": "ba184d8a84a242079855f17f1bb1f922"
            }
          },
          "metadata": {}
        }
      ],
      "source": [
        "%pip install --upgrade --user google-generativeai"
      ]
    },
    {
      "cell_type": "code",
      "source": [
        "# Restart kernel after installs so that your environment can access the new packages\n",
        "import IPython\n",
        "\n",
        "app = IPython.Application.instance()\n",
        "app.kernel.do_shutdown(True)"
      ],
      "metadata": {
        "colab": {
          "base_uri": "https://localhost:8080/"
        },
        "id": "fd3H0e1oiwiH",
        "outputId": "e0c06fd7-f126-45df-814a-fa7879032924"
      },
      "execution_count": 2,
      "outputs": [
        {
          "output_type": "execute_result",
          "data": {
            "text/plain": [
              "{'status': 'ok', 'restart': True}"
            ]
          },
          "metadata": {},
          "execution_count": 2
        }
      ]
    },
    {
      "cell_type": "markdown",
      "source": [
        "# Authenticate your notebook environment (Colab only)\n",
        "\n",
        "If you are running this notebook on Google Colab, you will need to authenticate your environment. To do this, run the new cell below. This step is not required if you are using Vertex AI Workbench."
      ],
      "metadata": {
        "id": "D-0cRE_bi09U"
      }
    },
    {
      "cell_type": "code",
      "source": [
        "import sys\n",
        "\n",
        "# Additional authentication is required for Google Colab\n",
        "if \"google.colab\" in sys.modules:\n",
        "    # Authenticate user to Google Cloud\n",
        "    from google.colab import auth\n",
        "\n",
        "    auth.authenticate_user()"
      ],
      "metadata": {
        "id": "ex1cjKt4i4dC"
      },
      "execution_count": 1,
      "outputs": []
    },
    {
      "cell_type": "markdown",
      "source": [
        "# Create a Gemini 1.5 Flash model"
      ],
      "metadata": {
        "id": "7Qd4gJl2FngE"
      }
    },
    {
      "cell_type": "code",
      "source": [
        "import google.generativeai as genai\n",
        "from google.generativeai.types import HarmCategory, HarmBlockThreshold\n",
        "from google.colab import userdata\n",
        "\n",
        "api_key = userdata.get('GEMINI_API_KEY')\n",
        "\n",
        "generation_config = {\n",
        "  \"temperature\": 0.5,\n",
        "  \"top_p\": 0.7,\n",
        "  \"top_k\": 10,\n",
        "  \"max_output_tokens\": 2048,\n",
        "}\n",
        "\n",
        "safety_settings = {\n",
        "    HarmCategory.HARM_CATEGORY_HATE_SPEECH: HarmBlockThreshold.BLOCK_LOW_AND_ABOVE,\n",
        "    HarmCategory.HARM_CATEGORY_HARASSMENT: HarmBlockThreshold.BLOCK_LOW_AND_ABOVE,\n",
        "    HarmCategory.HARM_CATEGORY_HATE_SPEECH:\tHarmBlockThreshold.BLOCK_LOW_AND_ABOVE,\n",
        "    HarmCategory.HARM_CATEGORY_SEXUALLY_EXPLICIT: HarmBlockThreshold.BLOCK_LOW_AND_ABOVE,\n",
        "    HarmCategory.HARM_CATEGORY_UNSPECIFIED: HarmBlockThreshold.BLOCK_LOW_AND_ABOVE,\n",
        "}\n",
        "\n",
        "model = genai.GenerativeModel(\n",
        "  model_name=\"gemini-1.5-flash\",\n",
        "  generation_config=generation_config,\n",
        "  safety_settings=safety_settings,\n",
        "  system_instruction=\"You are a computer programmer who can code, run, answer and explain simple coding problems\",\n",
        ")\n",
        "\n",
        "genai.configure(api_key=api_key)\n",
        "\n",
        "model = genai.GenerativeModel(\n",
        "    model_name='gemini-1.5-pro',\n",
        "    tools='code_execution')\n",
        "\n",
        "print(model)"
      ],
      "metadata": {
        "id": "sjrlzkYgjhdM",
        "colab": {
          "base_uri": "https://localhost:8080/"
        },
        "outputId": "dc17c816-decc-46a8-848c-c5caae4702c1"
      },
      "execution_count": 2,
      "outputs": [
        {
          "output_type": "stream",
          "name": "stdout",
          "text": [
            "genai.GenerativeModel(\n",
            "    model_name='models/gemini-1.5-pro',\n",
            "    generation_config={},\n",
            "    safety_settings={},\n",
            "    tools=<google.generativeai.types.content_types.FunctionLibrary object at 0x794d7861e2f0>,\n",
            "    system_instruction=None,\n",
            "    cached_content=None\n",
            ")\n"
          ]
        }
      ]
    },
    {
      "cell_type": "markdown",
      "source": [
        "# Start single-turn conversation\n",
        "- Ask the model to generate and run code to sort an array of numbers in an ascending order\n",
        "- Ask the model a general question\n",
        "- Source: https://ai.google.dev/gemini-api/docs/code-execution?lang=python"
      ],
      "metadata": {
        "id": "ses5NZcYIqOc"
      }
    },
    {
      "cell_type": "code",
      "source": [
        "response = model.generate_content('What is the capital of France?')\n",
        "\n",
        "print(response.text)\n",
        "\n",
        "response = model.generate_content((\n",
        "    'Please generate and run the code that sorts an array of numbers in ascending order.'\n",
        "    'Test the function with [3, 10, 5, -1, 2].'))\n",
        "\n",
        "print(response.text)"
      ],
      "metadata": {
        "colab": {
          "base_uri": "https://localhost:8080/",
          "height": 486
        },
        "id": "y-tc_LnkJXDF",
        "outputId": "3c646e7e-c4b7-46d2-ce4d-a54d72d504c8"
      },
      "execution_count": 3,
      "outputs": [
        {
          "output_type": "stream",
          "name": "stdout",
          "text": [
            "The capital of France is **Paris**. \n",
            "\n",
            "I can use the `sorted()` function in Python to sort an array in ascending order. \n",
            "\n",
            "\n",
            "``` python\n",
            "def sort_array(arr):\n",
            "  \"\"\"Sorts an array of numbers in ascending order.\n",
            "\n",
            "  Args:\n",
            "    arr: The array to sort.\n",
            "\n",
            "  Returns:\n",
            "    The sorted array.\n",
            "  \"\"\"\n",
            "  return sorted(arr)\n",
            "test_array = [3, 10, 5, -1, 2]\n",
            "sorted_array = sort_array(test_array)\n",
            "print(f'{sorted_array=}')\n",
            "\n",
            "```\n",
            "```\n",
            "sorted_array=[-1, 2, 3, 5, 10]\n",
            "\n",
            "```\n",
            "As you can see, the code successfully sorted the input array `[3, 10, 5, -1, 2]` in ascending order, resulting in `[-1, 2, 3, 5, 10]`. \n",
            "\n"
          ]
        }
      ]
    },
    {
      "cell_type": "markdown",
      "source": [
        "# Start multi-turn conversation\n",
        "\n",
        "- Generate and run a function that find the longest and shortest strings in an array of string.\n",
        "- Generate and run a function that determines whether a number is a perfect square\n",
        "- Generate and run a function that returns the divisors of an integer, excluding 1 and itself"
      ],
      "metadata": {
        "id": "81fVbe80nhRR"
      }
    },
    {
      "cell_type": "code",
      "source": [
        "chat = model.start_chat(history=[])\n",
        "\n",
        "response = chat.send_message([\"\"\"Please generate and run a function that accepts a string array and returns the longest string and the shortest string.\"\"\"])\n",
        "\n",
        "print (response.text)\n",
        "\n",
        "response = chat.send_message([\"\"\"Use the function to find the result of [\"strawberry\", \"apple\", \"box\"])?\"\"\"])\n",
        "\n",
        "print (response.text)"
      ],
      "metadata": {
        "colab": {
          "base_uri": "https://localhost:8080/",
          "height": 1000
        },
        "id": "KkAKFBPFnlzb",
        "outputId": "05d6b96c-f5fb-42b2-b3ed-1f941656fe76"
      },
      "execution_count": 4,
      "outputs": [
        {
          "output_type": "stream",
          "name": "stdout",
          "text": [
            "I can do that. I will write a Python function to find the shortest and longest strings from an input string array. \n",
            "\n",
            "```python\n",
            "def find_shortest_and_longest_strings(strings):\n",
            "    \"\"\"\n",
            "    This function takes a list of strings and returns the longest and shortest strings.\n",
            "\n",
            "    Args:\n",
            "        strings: A list of strings.\n",
            "\n",
            "    Returns:\n",
            "        A tuple containing the shortest and longest strings, respectively. \n",
            "    \"\"\"\n",
            "    if not strings:\n",
            "        return None, None\n",
            "\n",
            "    shortest_string = min(strings, key=len)\n",
            "    longest_string = max(strings, key=len)\n",
            "    return shortest_string, longest_string\n",
            "\n",
            "```\n",
            "\n",
            "\n",
            "``` python\n",
            "def find_shortest_and_longest_strings(strings):\n",
            "    \"\"\"\n",
            "    This function takes a list of strings and returns the longest and shortest strings.\n",
            "\n",
            "    Args:\n",
            "        strings: A list of strings.\n",
            "\n",
            "    Returns:\n",
            "        A tuple containing the shortest and longest strings, respectively. \n",
            "    \"\"\"\n",
            "    if not strings:\n",
            "        return None, None\n",
            "\n",
            "    shortest_string = min(strings, key=len)\n",
            "    longest_string = max(strings, key=len)\n",
            "    return shortest_string, longest_string\n",
            "\n",
            "\n",
            "test_strings = [\"apple\", \"banana\", \"kiwi\", \"grapefruit\"]\n",
            "shortest, longest = find_shortest_and_longest_strings(test_strings)\n",
            "print(f'Shortest: {shortest}, Longest: {longest}')\n",
            "\n",
            "```\n",
            "```\n",
            "Shortest: kiwi, Longest: grapefruit\n",
            "\n",
            "```\n",
            "The function successfully identified \"kiwi\" as the shortest and \"grapefruit\" as the longest string in the provided example list. \n",
            "\n",
            "\n",
            "``` python\n",
            "def find_shortest_and_longest_strings(strings):\n",
            "    \"\"\"\n",
            "    This function takes a list of strings and returns the longest and shortest strings.\n",
            "\n",
            "    Args:\n",
            "        strings: A list of strings.\n",
            "\n",
            "    Returns:\n",
            "        A tuple containing the shortest and longest strings, respectively. \n",
            "    \"\"\"\n",
            "    if not strings:\n",
            "        return None, None\n",
            "\n",
            "    shortest_string = min(strings, key=len)\n",
            "    longest_string = max(strings, key=len)\n",
            "    return shortest_string, longest_string\n",
            "\n",
            "test_strings = [\"strawberry\", \"apple\", \"box\"]\n",
            "shortest, longest = find_shortest_and_longest_strings(test_strings)\n",
            "print(f'Shortest: {shortest}, Longest: {longest}')\n",
            "\n",
            "```\n",
            "```\n",
            "Shortest: box, Longest: strawberry\n",
            "\n",
            "```\n",
            "The shortest string is \"box\" and the longest string is \"strawberry\". \n",
            "\n"
          ]
        }
      ]
    },
    {
      "cell_type": "code",
      "source": [
        "response = chat.send_message([\"\"\"Please generate and run a function that determines whether a number is a perfect square.\n",
        "  When the input is not an integer, output an error message.\n",
        "  When the input is a perfect square, return a tuple where the first value is True and the second value is the square root.\n",
        "  When the input is nota perfect square, return a tuple where the first value is False.\n",
        "\"\"\"])\n",
        "\n",
        "print (response.text)\n",
        "\n",
        "# response = chat.send_message([\"\"\"\n",
        "#   Use the function to find the result of 16, 3.5 and 66 respectively?\n",
        "# \"\"\"])\n",
        "\n",
        "# print (response.text)\n",
        "\n",
        "# response = chat.send_message([\"\"\"\n",
        "#   Use the function to find the result of 3.5?\n",
        "# \"\"\"])\n",
        "\n",
        "# print (response.text)\n",
        "\n",
        "# response = chat.send_message([\"\"\"\n",
        "#   Use the function to find the result of 66?\n",
        "# \"\"\"])\n",
        "\n",
        "# print (response.text)"
      ],
      "metadata": {
        "id": "LvKzVrpFNvmE",
        "colab": {
          "base_uri": "https://localhost:8080/",
          "height": 1000
        },
        "outputId": "1982b2a4-72ec-4fdd-9b8f-d939188c3caf"
      },
      "execution_count": 5,
      "outputs": [
        {
          "output_type": "stream",
          "name": "stdout",
          "text": [
            "```python\n",
            "def is_perfect_square(num):\n",
            "    \"\"\"\n",
            "    This function determines if a number is a perfect square.\n",
            "\n",
            "    Args:\n",
            "        num: The number to check.\n",
            "\n",
            "    Returns:\n",
            "        A tuple:\n",
            "         - The first element is True if the input is a perfect square, False otherwise.\n",
            "         - The second element is the square root if the input is a perfect square, None otherwise. \n",
            "    \"\"\"\n",
            "    if not isinstance(num, int):\n",
            "        return \"Error: Input must be an integer.\"\n",
            "\n",
            "    if num < 0:\n",
            "        return False, None \n",
            "\n",
            "    sqrt = int(num**0.5)\n",
            "    if sqrt * sqrt == num:\n",
            "        return True, sqrt\n",
            "    else:\n",
            "        return False, None\n",
            "\n",
            "```\n",
            "\n",
            "\n",
            "``` python\n",
            "def is_perfect_square(num):\n",
            "    \"\"\"\n",
            "    This function determines if a number is a perfect square.\n",
            "\n",
            "    Args:\n",
            "        num: The number to check.\n",
            "\n",
            "    Returns:\n",
            "        A tuple:\n",
            "         - The first element is True if the input is a perfect square, False otherwise.\n",
            "         - The second element is the square root if the input is a perfect square, None otherwise. \n",
            "    \"\"\"\n",
            "    if not isinstance(num, int):\n",
            "        return \"Error: Input must be an integer.\"\n",
            "\n",
            "    if num < 0:\n",
            "        return False, None\n",
            "\n",
            "    sqrt = int(num**0.5)\n",
            "    if sqrt * sqrt == num:\n",
            "        return True, sqrt\n",
            "    else:\n",
            "        return False, None\n",
            "\n",
            "print(f'16: {is_perfect_square(16)}')\n",
            "print(f'10: {is_perfect_square(10)}')\n",
            "print(f'1.5: {is_perfect_square(1.5)}')\n",
            "\n",
            "\n",
            "```\n",
            "```\n",
            "16: (True, 4)\n",
            "10: (False, None)\n",
            "1.5: Error: Input must be an integer.\n",
            "\n",
            "```\n",
            "The function correctly identifies: \n",
            "* 16 as a perfect square, returning True and its square root, 4.\n",
            "* 10 as not a perfect square, returning False.\n",
            "* It also handles the non-integer input 1.5 correctly, outputting the error message. \n",
            "\n"
          ]
        }
      ]
    },
    {
      "cell_type": "code",
      "source": [
        "response = chat.send_message([\"\"\"\n",
        "  Please generate and run a function that returns the divisors of an integer, excluding 1 and itself.\n",
        "  Order the divisors in ascending order.\n",
        "\"\"\"])\n",
        "\n",
        "print (response.text)\n",
        "\n",
        "response = chat.send_message([\"\"\"\n",
        "  Use the function to find the result of 16?\n",
        "\"\"\"])\n",
        "\n",
        "print (response.text)\n",
        "\n",
        "# response = chat.send_message([\"\"\"\n",
        "#   Use the function to find the result of 100?\n",
        "# \"\"\"])\n",
        "\n",
        "# print (response.text)\n",
        "\n",
        "response = chat.send_message([\"\"\"\n",
        "  Use the function to find the result of 66?\n",
        "\"\"\"])\n",
        "\n",
        "print (response.text)"
      ],
      "metadata": {
        "colab": {
          "base_uri": "https://localhost:8080/",
          "height": 1000
        },
        "id": "VfcwST_SPMff",
        "outputId": "6cf97ccf-b964-465f-a976-dfebbbc15cfa"
      },
      "execution_count": 6,
      "outputs": [
        {
          "output_type": "stream",
          "name": "stdout",
          "text": [
            "```python\n",
            "def get_divisors(n):\n",
            "    \"\"\"\n",
            "    This function returns a list of divisors of an integer, excluding 1 and itself, in ascending order.\n",
            "\n",
            "    Args:\n",
            "        n: The integer for which to find the divisors.\n",
            "\n",
            "    Returns:\n",
            "        A list of integers representing the divisors of the input integer (excluding 1 and itself).\n",
            "        Returns an empty list if n is less than 2.\n",
            "    \"\"\"\n",
            "    if n < 2:\n",
            "        return []\n",
            "\n",
            "    divisors = []\n",
            "    for i in range(2, int(n**0.5) + 1):\n",
            "        if n % i == 0:\n",
            "            divisors.append(i)\n",
            "            if i != n // i:  \n",
            "                divisors.append(n // i)\n",
            "    divisors.sort()\n",
            "    return divisors\n",
            "\n",
            "```\n",
            "\n",
            "\n",
            "``` python\n",
            "def get_divisors(n):\n",
            "    \"\"\"\n",
            "    This function returns a list of divisors of an integer, excluding 1 and itself, in ascending order.\n",
            "\n",
            "    Args:\n",
            "        n: The integer for which to find the divisors.\n",
            "\n",
            "    Returns:\n",
            "        A list of integers representing the divisors of the input integer (excluding 1 and itself).\n",
            "        Returns an empty list if n is less than 2.\n",
            "    \"\"\"\n",
            "    if n < 2:\n",
            "        return []\n",
            "\n",
            "    divisors = []\n",
            "    for i in range(2, int(n**0.5) + 1):\n",
            "        if n % i == 0:\n",
            "            divisors.append(i)\n",
            "            if i != n // i:  \n",
            "                divisors.append(n // i)\n",
            "    divisors.sort()\n",
            "    return divisors\n",
            "\n",
            "print(f'Divisors of 12: {get_divisors(12)}')\n",
            "print(f'Divisors of 7: {get_divisors(7)}')\n",
            "\n",
            "```\n",
            "```\n",
            "Divisors of 12: [2, 3, 4, 6]\n",
            "Divisors of 7: []\n",
            "\n",
            "```\n",
            "The function correctly returns:\n",
            "\n",
            "* For `n=12`: The divisors are `[2, 3, 4, 6]`, excluding 1 and 12. \n",
            "* For `n=7`: Since 7 is a prime number, it has no divisors other than 1 and itself, so the function returns an empty list (`[]`).\n",
            "\n",
            "\n",
            "``` python\n",
            "def get_divisors(n):\n",
            "    \"\"\"\n",
            "    This function returns a list of divisors of an integer, excluding 1 and itself, in ascending order.\n",
            "\n",
            "    Args:\n",
            "        n: The integer for which to find the divisors.\n",
            "\n",
            "    Returns:\n",
            "        A list of integers representing the divisors of the input integer (excluding 1 and itself).\n",
            "        Returns an empty list if n is less than 2.\n",
            "    \"\"\"\n",
            "    if n < 2:\n",
            "        return []\n",
            "\n",
            "    divisors = []\n",
            "    for i in range(2, int(n**0.5) + 1):\n",
            "        if n % i == 0:\n",
            "            divisors.append(i)\n",
            "            if i != n // i:  \n",
            "                divisors.append(n // i)\n",
            "    divisors.sort()\n",
            "    return divisors\n",
            "\n",
            "print(f'Divisors of 16: {get_divisors(16)}')\n",
            "\n",
            "```\n",
            "```\n",
            "Divisors of 16: [2, 4, 8]\n",
            "\n",
            "```\n",
            "The divisors of 16 (excluding 1 and 16) are: 2, 4, and 8. \n",
            "\n",
            "\n",
            "``` python\n",
            "def get_divisors(n):\n",
            "    \"\"\"\n",
            "    This function returns a list of divisors of an integer, excluding 1 and itself, in ascending order.\n",
            "\n",
            "    Args:\n",
            "        n: The integer for which to find the divisors.\n",
            "\n",
            "    Returns:\n",
            "        A list of integers representing the divisors of the input integer (excluding 1 and itself).\n",
            "        Returns an empty list if n is less than 2.\n",
            "    \"\"\"\n",
            "    if n < 2:\n",
            "        return []\n",
            "\n",
            "    divisors = []\n",
            "    for i in range(2, int(n**0.5) + 1):\n",
            "        if n % i == 0:\n",
            "            divisors.append(i)\n",
            "            if i != n // i:  \n",
            "                divisors.append(n // i)\n",
            "    divisors.sort()\n",
            "    return divisors\n",
            "\n",
            "print(f'Divisors of 66: {get_divisors(66)}')\n",
            "\n",
            "```\n",
            "```\n",
            "Divisors of 66: [2, 3, 6, 11, 22, 33]\n",
            "\n",
            "```\n",
            "The divisors of 66 (excluding 1 and 66) are: 2, 3, 6, 11, 22, and 33. \n",
            "\n"
          ]
        }
      ]
    },
    {
      "cell_type": "markdown",
      "source": [
        "# Start multi-turn conversation\n",
        "\n",
        "- Generate and run a function to calculate the nth fibonacchi number without using recursion"
      ],
      "metadata": {
        "id": "UPHUDVBBkruR"
      }
    },
    {
      "cell_type": "code",
      "source": [
        "response = chat.send_message([\"\"\"\n",
        "  Please generate and run a function to calculate the nth fibonacchi number without recusion.  The index of the first fibonacchi number is 0.\n",
        "  The 0th fibonacci number is 1, the 1st is 1, the 2nd fibonacchi number is 2 and so on.\n",
        "\"\"\"])\n",
        "\n",
        "print (response.text)"
      ],
      "metadata": {
        "colab": {
          "base_uri": "https://localhost:8080/",
          "height": 1000
        },
        "id": "fPcpr9XKnwBc",
        "outputId": "58f41f9e-1746-4bb6-b57d-b120d5e9de34"
      },
      "execution_count": 8,
      "outputs": [
        {
          "output_type": "stream",
          "name": "stdout",
          "text": [
            "```python\n",
            "def fibonacci(n):\n",
            "    \"\"\"\n",
            "    This function calculates the nth Fibonacci number iteratively (without recursion), \n",
            "    where the sequence starts with 1, 1 (i.e., F(0) = 1, F(1) = 1).\n",
            "\n",
            "    Args:\n",
            "        n: The index (starting from 0) of the desired Fibonacci number.\n",
            "\n",
            "    Returns:\n",
            "        The nth Fibonacci number.\n",
            "    \"\"\"\n",
            "    if n <= 1:  \n",
            "        return 1\n",
            "    else:\n",
            "        a, b = 1, 1\n",
            "        for _ in range(2, n + 1):\n",
            "            a, b = b, a + b\n",
            "        return b\n",
            "\n",
            "```\n",
            "\n",
            "\n",
            "\n",
            "\n",
            "``` python\n",
            "def fibonacci(n):\n",
            "    \"\"\"\n",
            "    This function calculates the nth Fibonacci number iteratively (without recursion), \n",
            "    where the sequence starts with 1, 1 (i.e., F(0) = 1, F(1) = 1).\n",
            "\n",
            "    Args:\n",
            "        n: The index (starting from 0) of the desired Fibonacci number.\n",
            "\n",
            "    Returns:\n",
            "        The nth Fibonacci number.\n",
            "    \"\"\"\n",
            "    if n <= 1:  \n",
            "        return 1\n",
            "    else:\n",
            "        a, b = 1, 1\n",
            "        for _ in range(2, n + 1):\n",
            "            a, b = b, a + b\n",
            "        return b\n",
            "\n",
            "print(f'The 0th Fibonacci number is: {fibonacci(0)}')\n",
            "print(f'The 1st Fibonacci number is: {fibonacci(1)}')\n",
            "print(f'The 2nd Fibonacci number is: {fibonacci(2)}')\n",
            "print(f'The 5th Fibonacci number is: {fibonacci(5)}')\n",
            "print(f'The 10th Fibonacci number is: {fibonacci(10)}')\n",
            "\n",
            "```\n",
            "```\n",
            "The 0th Fibonacci number is: 1\n",
            "The 1st Fibonacci number is: 1\n",
            "The 2nd Fibonacci number is: 2\n",
            "The 5th Fibonacci number is: 8\n",
            "The 10th Fibonacci number is: 89\n",
            "\n",
            "```\n",
            "The function now correctly calculates the Fibonacci numbers according to the adjusted definition where the sequence starts with 1, 1:\n",
            "\n",
            "* The 0th Fibonacci number is 1\n",
            "* The 1st Fibonacci number is 1\n",
            "* The 2nd Fibonacci number is 2\n",
            "* The 5th Fibonacci number is 8 \n",
            "* The 10th Fibonacci number is 89 \n",
            "\n"
          ]
        }
      ]
    }
  ]
}