{
  "nbformat": 4,
  "nbformat_minor": 0,
  "metadata": {
    "colab": {
      "provenance": []
    },
    "kernelspec": {
      "name": "python3",
      "display_name": "Python 3"
    },
    "language_info": {
      "name": "python"
    }
  },
  "cells": [
    {
      "cell_type": "markdown",
      "source": [
        "Use Vertex AI multimodal to ask questions in a chatbot to generate\n",
        "* caption\n",
        "* description\n",
        "* title\n",
        "* rating\n",
        "* category\n",
        "\n",
        "of a product photograph"
      ],
      "metadata": {
        "id": "-wB30V-7igDv"
      }
    },
    {
      "cell_type": "code",
      "execution_count": null,
      "metadata": {
        "id": "utXv0znmh12B"
      },
      "outputs": [],
      "source": [
        "%pip install --upgrade --user google-cloud-aiplatform"
      ]
    },
    {
      "cell_type": "code",
      "source": [
        "# Restart kernel after installs so that your environment can access the new packages\n",
        "import IPython\n",
        "\n",
        "app = IPython.Application.instance()\n",
        "app.kernel.do_shutdown(True)"
      ],
      "metadata": {
        "id": "fd3H0e1oiwiH"
      },
      "execution_count": null,
      "outputs": []
    },
    {
      "cell_type": "markdown",
      "source": [
        "# Authenticate your notebook environment (Colab only)\n",
        "\n",
        "If you are running this notebook on Google Colab, you will need to authenticate your environment. To do this, run the new cell below. This step is not required if you are using Vertex AI Workbench."
      ],
      "metadata": {
        "id": "D-0cRE_bi09U"
      }
    },
    {
      "cell_type": "code",
      "source": [
        "import sys\n",
        "\n",
        "# Additional authentication is required for Google Colab\n",
        "if \"google.colab\" in sys.modules:\n",
        "    # Authenticate user to Google Cloud\n",
        "    from google.colab import auth\n",
        "\n",
        "    auth.authenticate_user()"
      ],
      "metadata": {
        "id": "ex1cjKt4i4dC"
      },
      "execution_count": null,
      "outputs": []
    },
    {
      "cell_type": "code",
      "source": [
        "# Define project information\n",
        "from google.colab import userdata\n",
        "PROJECT_ID = userdata.get('VERTEX_AI_PROJECT_ID')\n",
        "LOCATION = \"asia-east2\"  # @param {type:\"string\"}\n",
        "\n",
        "# Initialize Vertex AI\n",
        "import vertexai\n",
        "\n",
        "vertexai.init(project=PROJECT_ID, location=LOCATION)"
      ],
      "metadata": {
        "id": "sjrlzkYgjhdM"
      },
      "execution_count": null,
      "outputs": []
    },
    {
      "cell_type": "markdown",
      "source": [
        "# Create a Gemini 1.5 Flash model\n",
        "\n",
        "- maximum output tokens is 1024\n",
        "- temperature is 1 such that the generated content is creative\n",
        "- top_p is 0.95.  When the total probability of the tokens exceeds 0.95, the tokens are used for text generation"
      ],
      "metadata": {
        "id": "UF8lLjxtGOK5"
      }
    },
    {
      "cell_type": "code",
      "source": [
        "from vertexai.generative_models import GenerativeModel, Part\n",
        "import vertexai.preview.generative_models as generative_models\n",
        "import json\n",
        "from vertexai.preview.vision_models import Image\n",
        "\n",
        "generation_config = {\n",
        "    \"max_output_tokens\": 1024,\n",
        "    \"temperature\": 1,\n",
        "    \"top_p\": 0.95,\n",
        "}\n",
        "\n",
        "safety_settings = {\n",
        "    generative_models.HarmCategory.HARM_CATEGORY_HATE_SPEECH: generative_models.HarmBlockThreshold.BLOCK_MEDIUM_AND_ABOVE,\n",
        "    generative_models.HarmCategory.HARM_CATEGORY_DANGEROUS_CONTENT: generative_models.HarmBlockThreshold.BLOCK_MEDIUM_AND_ABOVE,\n",
        "    generative_models.HarmCategory.HARM_CATEGORY_SEXUALLY_EXPLICIT: generative_models.HarmBlockThreshold.BLOCK_MEDIUM_AND_ABOVE,\n",
        "    generative_models.HarmCategory.HARM_CATEGORY_HARASSMENT: generative_models.HarmBlockThreshold.BLOCK_MEDIUM_AND_ABOVE,\n",
        "}\n",
        "\n",
        "model = GenerativeModel(\n",
        "    \"gemini-1.5-flash-001\",\n",
        "    system_instruction=[\"\"\"You are an expert in generating fake data for an API in English.\"\"\"],\n",
        "    safety_settings=safety_settings,\n",
        "    generation_config=generation_config\n",
        ")\n",
        "\n",
        "print(model)"
      ],
      "metadata": {
        "colab": {
          "base_uri": "https://localhost:8080/"
        },
        "id": "Zd1-hZiBHZOD",
        "outputId": "a51219ef-ca5d-4a98-a450-32e6511fa02a"
      },
      "execution_count": null,
      "outputs": [
        {
          "output_type": "stream",
          "name": "stdout",
          "text": [
            "<vertexai.generative_models.GenerativeModel object at 0x79cc118eb0a0>\n"
          ]
        }
      ]
    },
    {
      "cell_type": "markdown",
      "source": [
        "# Start conversation\n",
        "- Upload a image from gCloud Storage\n",
        "- Create a part from the image\n"
      ],
      "metadata": {
        "id": "ses5NZcYIqOc"
      }
    },
    {
      "cell_type": "code",
      "source": [
        "file_path = \"\"  # @param {type:\"string\"}\n",
        "\n",
        "# Load the image file as Image object\n",
        "image = Image.load_from_file(file_path)\n",
        "image.show()\n",
        "\n",
        "imagePart = Part.from_uri(\n",
        "    mime_type=\"image/jpeg\",\n",
        "    uri=file_path)"
      ],
      "metadata": {
        "id": "y-tc_LnkJXDF"
      },
      "execution_count": null,
      "outputs": []
    },
    {
      "cell_type": "markdown",
      "source": [
        "- Start a conversation\n",
        "- Prompt the chatbot to generate an image caption"
      ],
      "metadata": {
        "id": "81fVbe80nhRR"
      }
    },
    {
      "cell_type": "code",
      "source": [
        "chat = model.start_chat()\n",
        "\n",
        "caption = chat.send_message([imagePart, \"\"\"Please provide image captioning in less than 10 words in English.\"\"\"]).candidates[0].content.parts[0].text\n",
        "print(caption)"
      ],
      "metadata": {
        "id": "KkAKFBPFnlzb"
      },
      "execution_count": null,
      "outputs": []
    },
    {
      "cell_type": "markdown",
      "source": [
        "- Prompt the chatbot to generate the category"
      ],
      "metadata": {
        "id": "Gb2CpLzRq5X3"
      }
    },
    {
      "cell_type": "code",
      "source": [
        "category = chat.send_message([\"\"\"Please pick the most appropriate category from electronics, jewelery, men\\'s clothing, and women\\'s clothing.  Give me the category and nothing else.\"\"\"]).candidates[0].content.parts[0].text\n",
        "print(category)"
      ],
      "metadata": {
        "id": "PLGGy04gq_oG"
      },
      "execution_count": null,
      "outputs": []
    },
    {
      "cell_type": "markdown",
      "source": [
        "- Prompt the chatbot to generate a title in less than 25 words\n",
        "- Prompt the chatbot to generate a description based on the category and title in one paragraph. The description should be less than 300 words and in English\n"
      ],
      "metadata": {
        "id": "6J98gqPusPL0"
      }
    },
    {
      "cell_type": "code",
      "source": [
        "title = chat.send_message([\"\"\"The category of the product is {category}. Please provide an English title in less than 30 words.\"\"\"]).candidates[0].content.parts[0].text\n",
        "print(title)\n",
        "\n",
        "description = chat.send_message([\"\"\"Please provide the description of the product based on the above category and title in one paragraph. The description should be less than 300 words.\"\"\"]).candidates[0].content.parts[0].text\n",
        "print(description)"
      ],
      "metadata": {
        "id": "x_HJzPbHsVUX"
      },
      "execution_count": null,
      "outputs": []
    },
    {
      "cell_type": "markdown",
      "source": [
        "- Prompt the chatbot to generate a rating between 0 and 5 where 0 is the lowest and 5 is the highest. At most 1 decimal place is allowed.\n",
        "- Print the JSON object out"
      ],
      "metadata": {
        "id": "z89Fy5SjszYc"
      }
    },
    {
      "cell_type": "code",
      "source": [
        "ratingResponse = chat.send_message([\"\"\"Please generate a rating between 0 and 5 where 0 is the lowest rating and 5 is the highest rating. At most 1 decimal place is allowed.\"\"\"])\n",
        "rating = ratingResponse.candidates[0].content.parts[0].text\n",
        "print(rating)\n",
        "\n",
        "object = {\n",
        "    \"caption\": caption,\n",
        "    \"description\": description,\n",
        "    \"title\": title,\n",
        "    \"rating\": rating,\n",
        "    \"category\": category\n",
        "}\n",
        "\n",
        "print(json.dumps(object, indent=2))"
      ],
      "metadata": {
        "id": "rklrBKfItNKP"
      },
      "execution_count": null,
      "outputs": []
    },
    {
      "cell_type": "markdown",
      "source": [
        "# Put everything together\n",
        "\n",
        "- Put the conversation in a function"
      ],
      "metadata": {
        "id": "VF256JPUuQUX"
      }
    },
    {
      "cell_type": "code",
      "source": [
        "def generateData(file_path):\n",
        "  generation_config = {\n",
        "    \"max_output_tokens\": 1024,\n",
        "    \"temperature\": 1,\n",
        "    \"top_p\": 0.95,\n",
        "  }\n",
        "\n",
        "  safety_settings = {\n",
        "      generative_models.HarmCategory.HARM_CATEGORY_HATE_SPEECH: generative_models.HarmBlockThreshold.BLOCK_MEDIUM_AND_ABOVE,\n",
        "      generative_models.HarmCategory.HARM_CATEGORY_DANGEROUS_CONTENT: generative_models.HarmBlockThreshold.BLOCK_MEDIUM_AND_ABOVE,\n",
        "      generative_models.HarmCategory.HARM_CATEGORY_SEXUALLY_EXPLICIT: generative_models.HarmBlockThreshold.BLOCK_MEDIUM_AND_ABOVE,\n",
        "      generative_models.HarmCategory.HARM_CATEGORY_HARASSMENT: generative_models.HarmBlockThreshold.BLOCK_MEDIUM_AND_ABOVE,\n",
        "  }\n",
        "\n",
        "  model = GenerativeModel(\n",
        "      \"gemini-1.5-flash-001\",\n",
        "      system_instruction=[\"\"\"You are an expert in generating fake data for an API in English.\"\"\"],\n",
        "      safety_settings=safety_settings,\n",
        "      generation_config=generation_config\n",
        "  )\n",
        "\n",
        "  imagePart = Part.from_uri(\n",
        "    mime_type=\"image/jpeg\",\n",
        "    uri=file_path)\n",
        "\n",
        "  caption = chat.send_message([imagePart, \"\"\"Please provide image captioning in less than 10 words in English.\"\"\"]).candidates[0].content.parts[0].text\n",
        "  category = chat.send_message([\"\"\"Please pick the most appropriate category from electronics, jewelery, men\\'s clothing, and women\\'s clothing.  Give me the category and nothing else.\"\"\"]).candidates[0].content.parts[0].text\n",
        "  title = chat.send_message([\"\"\"The category of the product is {category}. Please provide an English title in less than 30 words.\"\"\"]).candidates[0].content.parts[0].text\n",
        "  description = chat.send_message([\"\"\"Please provide the description of the product based on the above category and title in one paragraph. The description should be less than 300 words.\"\"\"]).candidates[0].content.parts[0].text\n",
        "  rating = chat.send_message([\"\"\"Please generate a rating between 0 and 5 where 0 is the lowest rating and 5 is the highest rating. At most 1 decimal place is allowed.\"\"\"]).candidates[0].content.parts[0].text\n",
        "\n",
        "  return {\n",
        "      \"catpion\": caption,\n",
        "      \"description\": description,\n",
        "      \"title\": title,\n",
        "      \"rating\": rating,\n",
        "      \"category\": category\n",
        "  }\n",
        "\n",
        "url = \"\" # @param {type:\"string\"}\n",
        "data = generateData(url)\n",
        " formatted_json = json.dumps(data, indent=2)\n",
        "print(formatted_json)"
      ],
      "metadata": {
        "id": "c_ZvnusNuWTy"
      },
      "execution_count": null,
      "outputs": []
    },
    {
      "cell_type": "code",
      "source": [
        "url = \"\" # @param {type:\"string\"}\n",
        "data = generateData(url)\n",
        "formatted_json = json.dumps(data, indent=2)\n",
        "print(formatted_json)"
      ],
      "metadata": {
        "id": "VBrrSljByDXF"
      },
      "execution_count": null,
      "outputs": []
    }
  ]
}