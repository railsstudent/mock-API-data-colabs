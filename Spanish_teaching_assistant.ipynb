{
  "nbformat": 4,
  "nbformat_minor": 0,
  "metadata": {
    "colab": {
      "provenance": []
    },
    "kernelspec": {
      "name": "python3",
      "display_name": "Python 3"
    },
    "language_info": {
      "name": "python"
    }
  },
  "cells": [
    {
      "cell_type": "markdown",
      "source": [
        "*Use Gemini API, Gemini 1.5 Flash to learn Spanish with a professional Spanish teacher in a multi-turn conversation"
      ],
      "metadata": {
        "id": "-wB30V-7igDv"
      }
    },
    {
      "cell_type": "code",
      "execution_count": null,
      "metadata": {
        "id": "utXv0znmh12B"
      },
      "outputs": [],
      "source": [
        "%pip install --upgrade --user google-generativeai"
      ]
    },
    {
      "cell_type": "code",
      "source": [
        "# Restart kernel after installs so that your environment can access the new packages\n",
        "import IPython\n",
        "\n",
        "app = IPython.Application.instance()\n",
        "app.kernel.do_shutdown(True)"
      ],
      "metadata": {
        "id": "fd3H0e1oiwiH"
      },
      "execution_count": null,
      "outputs": []
    },
    {
      "cell_type": "markdown",
      "source": [
        "# Authenticate your notebook environment (Colab only)\n",
        "\n",
        "If you are running this notebook on Google Colab, you will need to authenticate your environment. To do this, run the new cell below. This step is not required if you are using Vertex AI Workbench."
      ],
      "metadata": {
        "id": "D-0cRE_bi09U"
      }
    },
    {
      "cell_type": "code",
      "source": [
        "import sys\n",
        "\n",
        "# Additional authentication is required for Google Colab\n",
        "if \"google.colab\" in sys.modules:\n",
        "    # Authenticate user to Google Cloud\n",
        "    from google.colab import auth\n",
        "\n",
        "    auth.authenticate_user()"
      ],
      "metadata": {
        "id": "ex1cjKt4i4dC"
      },
      "execution_count": 1,
      "outputs": []
    },
    {
      "cell_type": "markdown",
      "source": [
        "# Create a Gemini 1.5 Flash model\n",
        "- provide system instruction\n",
        "- stop the conversation when I type the word stop\n",
        "- instruct the teacher to ask one question such that he/she does not start rambling."
      ],
      "metadata": {
        "id": "7Qd4gJl2FngE"
      }
    },
    {
      "cell_type": "code",
      "source": [
        "import google.generativeai as genai\n",
        "from google.generativeai.types import HarmCategory, HarmBlockThreshold\n",
        "from google.colab import userdata\n",
        "\n",
        "api_key = userdata.get('GEMINI_API_KEY')\n",
        "\n",
        "system_instruction = \"\"\"You are a professional Spanish instructor who specializes in Spanish conversation.\n",
        "You will have a Spanish conversation with the student until the student types the word stop.\n",
        "Then, you will provide feedback and resources to help him improve.\n",
        "Please only ask one question each time so that the student can focus on the question to answer to his/her best ability.\n",
        "If the student asks a question, you will answer it and ask the next question.\n",
        "\"\"\"\n",
        "\n",
        "generation_config = {\n",
        "  \"temperature\": 0.5,\n",
        "  \"top_p\": 0.7,\n",
        "  \"top_k\": 10,\n",
        "  \"max_output_tokens\": 2048,\n",
        "}\n",
        "\n",
        "model = genai.GenerativeModel(\n",
        "  model_name=\"gemini-1.5-flash\",\n",
        "  generation_config=generation_config,\n",
        "  system_instruction=system_instruction,\n",
        ")\n",
        "\n",
        "genai.configure(api_key=api_key)"
      ],
      "metadata": {
        "id": "sjrlzkYgjhdM"
      },
      "execution_count": null,
      "outputs": []
    },
    {
      "cell_type": "markdown",
      "source": [
        "# Start multi-turn conversation\n",
        "\n",
        "- Start a chat to greet the teacher\n",
        "- talk about different animals on a farm"
      ],
      "metadata": {
        "id": "81fVbe80nhRR"
      }
    },
    {
      "cell_type": "code",
      "source": [
        "chat = model.start_chat(history=[])"
      ],
      "metadata": {
        "id": "ke0xTDOo_bIY"
      },
      "execution_count": 3,
      "outputs": []
    },
    {
      "cell_type": "code",
      "source": [
        "def talk(message, show_history=False):\n",
        "  response = chat.send_message(message)\n",
        "\n",
        "  if show_history:\n",
        "    print(\"history\", chat.history)\n",
        "\n",
        "  print(response.text)"
      ],
      "metadata": {
        "id": "R9wCTDd4D2hB"
      },
      "execution_count": 9,
      "outputs": []
    },
    {
      "cell_type": "code",
      "source": [
        "talk(\"Hola. Buenos dias.\") # Hello. Good morning"
      ],
      "metadata": {
        "id": "KkAKFBPFnlzb"
      },
      "execution_count": null,
      "outputs": []
    },
    {
      "cell_type": "code",
      "source": [
        "talk(\"Estoy bien. Yo quiero practicar espanol con una maestra esta noche.\")   # I am good. I want to practice Spanish with a teacher tonight."
      ],
      "metadata": {
        "id": "LvKzVrpFNvmE"
      },
      "execution_count": null,
      "outputs": []
    },
    {
      "cell_type": "code",
      "source": [
        "talk(\"Yo quiero hablar sobre animales en la granja ahora mismo.\")   # I want to talk about animals en the farm right now."
      ],
      "metadata": {
        "id": "fPcpr9XKnwBc"
      },
      "execution_count": null,
      "outputs": []
    },
    {
      "cell_type": "code",
      "source": [
        "talk(\"Me gusta las vacas porque ellos hacen leche.\") # I like cows because they produce milk."
      ],
      "metadata": {
        "id": "pxHUa_wvCrRa"
      },
      "execution_count": null,
      "outputs": []
    },
    {
      "cell_type": "code",
      "source": [
        "talk(\"Ellos comen pasto en la graja y ellos son muy agradable a otros.\")  # They eat grass on the farm and they are very nice to others."
      ],
      "metadata": {
        "id": "_nO-aheMDHYp"
      },
      "execution_count": null,
      "outputs": []
    },
    {
      "cell_type": "code",
      "source": [
        "talk(\"Me gusta los caballos porque la gente puede montarlos a las montañas. Los caballos son fuertes tambien\")  # I like horses because people can ride them to the moutains."
      ],
      "metadata": {
        "id": "SSgjOrkJDzLl"
      },
      "execution_count": null,
      "outputs": []
    },
    {
      "cell_type": "code",
      "source": [
        "talk(\"Yo nunca monto un caballo en la ciudad\")  # I never ride a hourse in the city"
      ],
      "metadata": {
        "id": "DlX3pPqbF-4D"
      },
      "execution_count": null,
      "outputs": []
    },
    {
      "cell_type": "code",
      "source": [
        "talk(\"No. Me gustaría acariciar el pelo del caballo.\")  # I would like to touch the hair of the horse"
      ],
      "metadata": {
        "id": "Si4wKxoWGO8F"
      },
      "execution_count": null,
      "outputs": []
    },
    {
      "cell_type": "code",
      "source": [
        "talk(\"Me gusta oveja y cerdo en la granja porque ellos son comida de la gente.\")  # I love sheep and pig en the farm because they are food."
      ],
      "metadata": {
        "id": "mFsBkDxPGpj6"
      },
      "execution_count": null,
      "outputs": []
    },
    {
      "cell_type": "code",
      "source": [
        "talk(\"Me gusta comer roast pig and cha siu. Como te dice roast pig y cha siu en Espanol?\", True)  # I like to eat roast pig and cha siu.  How do you say roast pig and cha siu in Spanish."
      ],
      "metadata": {
        "id": "fP8IJ79UHVIg"
      },
      "execution_count": null,
      "outputs": []
    },
    {
      "cell_type": "code",
      "source": [
        "talk(\"¿Qué animales me gustan en la granja en esta conversacion?\")  # What animals do I like in the farm in this conversation?"
      ],
      "metadata": {
        "id": "eSJkNvGT4lUy"
      },
      "execution_count": null,
      "outputs": []
    },
    {
      "cell_type": "code",
      "source": [
        "talk(\"No más animales. Yo tengo que parar porque tengo que trabajar hoy.\")  # I have to stop because I have to work today."
      ],
      "metadata": {
        "id": "g1WgX6voIFqN"
      },
      "execution_count": null,
      "outputs": []
    },
    {
      "cell_type": "code",
      "source": [
        "talk(\"Adios. Hasto luego\")  # Bye. See you later"
      ],
      "metadata": {
        "id": "dNbjwZEyITeH"
      },
      "execution_count": null,
      "outputs": []
    }
  ]
}