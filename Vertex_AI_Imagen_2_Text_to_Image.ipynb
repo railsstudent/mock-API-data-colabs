{
  "cells": [
    {
      "cell_type": "markdown",
      "metadata": {
        "id": "GtltgMbHrU20"
      },
      "source": [
        "# Overview\n",
        "\n",
        "Imagen on Vertex AI (image Generative AI) offers a variety of features:\n",
        "\n",
        "* Image generation\n",
        "* Image editing\n",
        "* Visual captioning\n",
        "* Visual question answering\n",
        "\n",
        "This notebook focuses on **image generation** only.\n",
        "\n"
      ]
    },
    {
      "cell_type": "markdown",
      "metadata": {
        "id": "iEzBIdunsmw0"
      },
      "source": [
        "Objectives\n",
        "In this notebook, you will learn how to use the Vertex AI Python SDK to:\n",
        "\n",
        "* Make request to https://fakestoreapi.com/products to retrieve 20 titles and descriptions\n",
        "* Use title to generate an image\n",
        "* Experiment with different parameters, such as:\n",
        "  * number of images to be generated\n",
        "  \n",
        "\n",
        "Resources:\n",
        "* https://cloud.google.com/vertex-ai/generative-ai/docs/image/overview\n",
        "* https://github.com/GoogleCloudPlatform/generative-ai/blob/main/vision/use-cases/creating_high_quality_visual_assets_with_gemini_and_imagen.ipynb"
      ]
    },
    {
      "cell_type": "markdown",
      "metadata": {
        "id": "2_IV9vunszwy"
      },
      "source": [
        "**Costs**\n",
        "* This notebook uses billable components of Google Cloud:\n",
        "  * Vertex AI (Imagen)\n",
        "* Learn about Vertex AI pricing and use the Pricing Calculator to generate a cost estimate based on your projected usage."
      ]
    },
    {
      "cell_type": "code",
      "execution_count": null,
      "metadata": {
        "id": "8XCIUvtCsiFI"
      },
      "outputs": [],
      "source": [
        "%pip install --upgrade --user google-cloud-aiplatform"
      ]
    },
    {
      "cell_type": "code",
      "execution_count": null,
      "metadata": {
        "id": "TRM5gvyFtJ74"
      },
      "outputs": [],
      "source": [
        "# Restart kernel after installs so that your environment can access the new packages\n",
        "import IPython\n",
        "\n",
        "app = IPython.Application.instance()\n",
        "app.kernel.do_shutdown(True)"
      ]
    },
    {
      "cell_type": "markdown",
      "metadata": {
        "id": "QzzvB7shtNdR"
      },
      "source": [
        "# Authenticate your notebook environment (Colab only)\n",
        "\n",
        "If you are running this notebook on Google Colab, you will need to authenticate your environment. To do this, run the new cell below. This step is not required if you are using Vertex AI Workbench."
      ]
    },
    {
      "cell_type": "code",
      "execution_count": null,
      "metadata": {
        "id": "etSaktzktM35"
      },
      "outputs": [],
      "source": [
        "import sys\n",
        "\n",
        "# Additional authentication is required for Google Colab\n",
        "if \"google.colab\" in sys.modules:\n",
        "    # Authenticate user to Google Cloud\n",
        "    from google.colab import auth\n",
        "\n",
        "    auth.authenticate_user()"
      ]
    },
    {
      "cell_type": "code",
      "execution_count": null,
      "metadata": {
        "id": "xI22zqQJtYOP"
      },
      "outputs": [],
      "source": [
        "# Define project information\n",
        "from google.colab import userdata\n",
        "PROJECT_ID = userdata.get('VERTEX_AI_PROJECT_ID')\n",
        "LOCATION = \"us-central1\"  # @param {type:\"string\"}\n",
        "\n",
        "# Initialize Vertex AI\n",
        "import vertexai\n",
        "\n",
        "vertexai.init(project=PROJECT_ID, location=LOCATION)"
      ]
    },
    {
      "cell_type": "markdown",
      "metadata": {
        "id": "XrSOG1_2iHFm"
      },
      "source": [
        "- Make request to https://fakestoreapi.com/products to retrieve title and description"
      ]
    },
    {
      "cell_type": "code",
      "execution_count": null,
      "metadata": {
        "id": "4BCHXvcMiftW"
      },
      "outputs": [],
      "source": [
        "import requests\n",
        "\n",
        "response = requests.get(\"https://fakestoreapi.com/products\")\n",
        "apiData = response.json()\n",
        "products = []\n",
        "for product in apiData:\n",
        "    products.append({\"title\": product[\"title\"], \"description\": product[\"description\"]})\n",
        "\n",
        "products"
      ]
    },
    {
      "cell_type": "markdown",
      "metadata": {
        "id": "Njwc-prpth7X"
      },
      "source": [
        "## Generate the first image\n",
        "\n",
        "The model names from Vertex AI Imagen have two components: model name and version number. The naming convention follow this format: <model-name>@<version-number>. For example, imagegeneration@006 represent the version 006 of the **imagegeneration** model."
      ]
    },
    {
      "cell_type": "code",
      "execution_count": null,
      "metadata": {
        "id": "ga-ARnRftodW"
      },
      "outputs": [],
      "source": [
        "from vertexai.preview.vision_models import ImageTextModel, ImageGenerationModel\n",
        "\n",
        "model_name = \"imagegeneration@006\"\n",
        "model = ImageGenerationModel.from_pretrained(model_name)\n"
      ]
    },
    {
      "cell_type": "code",
      "source": [
        "import math\n",
        "import matplotlib.pyplot as plt\n",
        "\n",
        "\n",
        "# An auxiliary function to display images in grid\n",
        "def display_images_in_grid(images):\n",
        "    nrows = math.ceil(len(images) / 4)  # Display at most 4 images per row\n",
        "    ncols = min(len(images) + 1, 4)  # Adjust columns based on the number of images\n",
        "\n",
        "    # Create a figure and axes for the grid layout.\n",
        "    fig, axes = plt.subplots(nrows=nrows, ncols=ncols, figsize=(12, 6))\n",
        "\n",
        "    for i, ax in enumerate(axes.flat):\n",
        "        if i < len(images):\n",
        "            ax.imshow(images[i]._pil_image)\n",
        "            ax.set_aspect(\"equal\")\n",
        "            ax.set_xticks([])\n",
        "            ax.set_yticks([])\n",
        "        else:\n",
        "            ax.axis(\"off\")\n",
        "\n",
        "    plt.tight_layout()\n",
        "    plt.show()"
      ],
      "metadata": {
        "id": "6y067NtS61wX"
      },
      "execution_count": null,
      "outputs": []
    },
    {
      "cell_type": "code",
      "execution_count": null,
      "metadata": {
        "id": "xZr5WthGlszQ"
      },
      "outputs": [],
      "source": [
        "title = products[0].get(\"title\")\n",
        "print(title)\n",
        "\n",
        "response = model.generate_images(title, number_of_images=1)\n",
        "display_images_in_grid(response.images)"
      ]
    },
    {
      "cell_type": "markdown",
      "metadata": {
        "id": "LbUscAs_mqvM"
      },
      "source": [
        "Use description to generate image\n"
      ]
    },
    {
      "cell_type": "code",
      "execution_count": null,
      "metadata": {
        "id": "ZwHLlzFpnG69"
      },
      "outputs": [],
      "source": [
        "description = products[0].get(\"description\")\n",
        "print(description)\n",
        "\n",
        "response = model.generate_images(description, number_of_images=1)\n",
        "display_images_in_grid(response.images)"
      ]
    },
    {
      "cell_type": "markdown",
      "metadata": {
        "id": "bgDDfkL8ljYd"
      },
      "source": [
        "* Write a function to generate the specified number of images\n",
        "- prompts\n",
        "- number of images"
      ]
    },
    {
      "cell_type": "code",
      "source": [
        "def generate_images(prompts, number_of_images):\n",
        "    images = []\n",
        "    for prompt in prompts:\n",
        "      response = model.generate_images(prompt, number_of_images=number_of_images)\n",
        "      for image in response.images:\n",
        "        images.append(image)\n",
        "\n",
        "    return images"
      ],
      "metadata": {
        "id": "eNtgY3Uv7ql9"
      },
      "execution_count": 34,
      "outputs": []
    },
    {
      "cell_type": "code",
      "execution_count": null,
      "metadata": {
        "id": "2eIXxu-jlnxX"
      },
      "outputs": [],
      "source": [
        "index = 16\n",
        "title = products[index].get(\"title\")\n",
        "description = products[index].get(\"description\")\n",
        "images = generate_images([title, description], number_of_images=2)\n",
        "\n",
        "print (len(images))\n",
        "print (\"Title: \", title, \"\\nDescription\", description)\n",
        "display_images_in_grid(images)"
      ]
    }
  ],
  "metadata": {
    "colab": {
      "provenance": []
    },
    "kernelspec": {
      "display_name": "Python 3",
      "name": "python3"
    },
    "language_info": {
      "name": "python"
    }
  },
  "nbformat": 4,
  "nbformat_minor": 0
}