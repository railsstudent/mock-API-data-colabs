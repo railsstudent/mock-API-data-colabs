{
  "nbformat": 4,
  "nbformat_minor": 0,
  "metadata": {
    "colab": {
      "provenance": []
    },
    "kernelspec": {
      "name": "python3",
      "display_name": "Python 3"
    },
    "language_info": {
      "name": "python"
    }
  },
  "cells": [
    {
      "cell_type": "markdown",
      "source": [
        "# Overview\n",
        "\n",
        "Imagen on Vertex AI (image Generative AI) offers a variety of features:\n",
        "\n",
        "* Image generation\n",
        "* Image editing\n",
        "* Visual captioning\n",
        "* Visual question answering\n",
        "\n",
        "This notebook focuses on **visual captioning** only.\n",
        "\n",
        "Visual captioning with Imagen on Vertex AI can generate text descriptions of images. The model takes in an image as input and produces one or more text descriptions of the image as output. The generated text descriptions can be used for a variety of use cases:\n",
        "\n",
        "* getting detailed metadata about images for storing and searching\n",
        "* generating automated captioning to support accessibility use cases\n",
        "* producing descriptions of products and visual assets\n",
        "\n",
        "More information about Visual captioning with Imagen on Vertex AI can be found in the official documentation."
      ],
      "metadata": {
        "id": "GtltgMbHrU20"
      }
    },
    {
      "cell_type": "markdown",
      "source": [
        "Objectives\n",
        "In this notebook, you will learn how to use the Vertex AI Python SDK to:\n",
        "\n",
        "* Generate image captions using the Imagen's visual captioning features\n",
        "* Experiment with different parameters, such as:\n",
        "  * number of captions to be generated\n",
        "  * language of the generated captions\n",
        "  * type and version of model that is used to generate the captions"
      ],
      "metadata": {
        "id": "iEzBIdunsmw0"
      }
    },
    {
      "cell_type": "markdown",
      "source": [
        "**Costs**\n",
        "* This notebook uses billable components of Google Cloud:\n",
        "  * Vertex AI (Imagen)\n",
        "* Learn about Vertex AI pricing and use the Pricing Calculator to generate a cost estimate based on your projected usage."
      ],
      "metadata": {
        "id": "2_IV9vunszwy"
      }
    },
    {
      "cell_type": "code",
      "source": [
        "%pip install --upgrade --user google-cloud-aiplatform"
      ],
      "metadata": {
        "id": "8XCIUvtCsiFI"
      },
      "execution_count": null,
      "outputs": []
    },
    {
      "cell_type": "code",
      "source": [
        "# Restart kernel after installs so that your environment can access the new packages\n",
        "import IPython\n",
        "\n",
        "app = IPython.Application.instance()\n",
        "app.kernel.do_shutdown(True)"
      ],
      "metadata": {
        "id": "TRM5gvyFtJ74"
      },
      "execution_count": null,
      "outputs": []
    },
    {
      "cell_type": "markdown",
      "source": [
        "# Authenticate your notebook environment (Colab only)\n",
        "\n",
        "If you are running this notebook on Google Colab, you will need to authenticate your environment. To do this, run the new cell below. This step is not required if you are using Vertex AI Workbench."
      ],
      "metadata": {
        "id": "QzzvB7shtNdR"
      }
    },
    {
      "cell_type": "code",
      "source": [
        "import sys\n",
        "\n",
        "# Additional authentication is required for Google Colab\n",
        "if \"google.colab\" in sys.modules:\n",
        "    # Authenticate user to Google Cloud\n",
        "    from google.colab import auth\n",
        "\n",
        "    auth.authenticate_user()"
      ],
      "metadata": {
        "id": "etSaktzktM35"
      },
      "execution_count": 1,
      "outputs": []
    },
    {
      "cell_type": "code",
      "source": [
        "# Define project information\n",
        "from google.colab import userdata\n",
        "PROJECT_ID = userdata.get('VERTEX_AI_PROJECT_ID')\n",
        "LOCATION = \"us-central1\"  # @param {type:\"string\"}\n",
        "\n",
        "# Initialize Vertex AI\n",
        "import vertexai\n",
        "\n",
        "vertexai.init(project=PROJECT_ID, location=LOCATION)"
      ],
      "metadata": {
        "id": "xI22zqQJtYOP"
      },
      "execution_count": 2,
      "outputs": []
    },
    {
      "cell_type": "markdown",
      "source": [
        "## Load the image captioning model\n",
        "\n",
        "The model names from Vertex AI Imagen have two components: model name and version number. The naming convention follow this format: <model-name>@<version-number>. For example, imagetext@001 represent the version 001 of the imagetext model."
      ],
      "metadata": {
        "id": "Njwc-prpth7X"
      }
    },
    {
      "cell_type": "code",
      "source": [
        "from vertexai.preview.vision_models import Image, ImageTextModel\n",
        "\n",
        "model = ImageTextModel.from_pretrained(\"imagetext@001\")\n",
        "\n",
        "# Use either a Google Cloud Storage URI or a local file path.\n",
        "file_path = \"https://storage.googleapis.com/fake-store-bucket/81fPKd-2AYL._AC_SL1500_.jpg\"  # @param {type:\"string\"}\n",
        "\n",
        "# Load the image file as Image object\n",
        "cloud_next_image = Image.load_from_file(file_path)\n",
        "cloud_next_image.show()"
      ],
      "metadata": {
        "id": "ga-ARnRftodW"
      },
      "execution_count": null,
      "outputs": []
    },
    {
      "cell_type": "code",
      "source": [
        "# Get a caption from the image.  Default language is English\n",
        "model.get_captions(\n",
        "    image=cloud_next_image,\n",
        ")"
      ],
      "metadata": {
        "id": "M4Lsv4fFt-5Y"
      },
      "execution_count": null,
      "outputs": []
    },
    {
      "cell_type": "code",
      "source": [
        "model.get_captions(\n",
        "    image=cloud_next_image,\n",
        "    number_of_results=3,\n",
        "    language=\"en\"\n",
        ")"
      ],
      "metadata": {
        "id": "Aga4d8uOuMqq"
      },
      "execution_count": null,
      "outputs": []
    },
    {
      "cell_type": "markdown",
      "source": [
        "## Generating captions in non-English languages\n",
        "\n",
        "Visual captioning with Imagen on Vertex AI can generate captions in multiple languages as well. To generate a caption in a specific language, you can set the language parameter as one of the values:\n",
        "\n",
        "* en - English\n",
        "* fr - French\n",
        "* de - German\n",
        "* it - Italian\n",
        "* es - Spanish\n",
        "\n",
        "For a list of supported languages, check out the official documentation."
      ],
      "metadata": {
        "id": "E15YbFMzuQOY"
      }
    },
    {
      "cell_type": "code",
      "source": [
        "# Get 2 image captions in Spanish\n",
        "model.get_captions(\n",
        "    image=cloud_next_image,\n",
        "    number_of_results=2,\n",
        "    language=\"es\",\n",
        ")"
      ],
      "metadata": {
        "id": "MgZveCDuuU-s"
      },
      "execution_count": null,
      "outputs": []
    },
    {
      "cell_type": "code",
      "source": [
        "# Get an image caption in Italian\n",
        "model.get_captions(\n",
        "    image=cloud_next_image,\n",
        "    number_of_results=3,\n",
        "    language=\"it\",\n",
        ")"
      ],
      "metadata": {
        "id": "3S6AigXLuf9p"
      },
      "execution_count": null,
      "outputs": []
    },
    {
      "cell_type": "markdown",
      "source": [
        "##Try it yourself\n",
        "\n",
        "You can also try using the visual captioning model with images of your choice. If you need to download an image file, you can use the provided auxiliary function download_image.\n",
        "\n",
        "Feel free to experiment with different images and model parameters to see how the results change."
      ],
      "metadata": {
        "id": "yUU0jnRAusix"
      }
    },
    {
      "cell_type": "code",
      "source": [
        "import os\n",
        "import requests\n",
        "\n",
        "def download_image(url: str) -> str:\n",
        "    \"\"\"Downloads an image from the specified URL.\"\"\"\n",
        "\n",
        "    # Send a get request to the url\n",
        "    response = requests.get(url)\n",
        "\n",
        "    if response.status_code != 200:\n",
        "        raise Exception(f\"Failed to download image from {url}\")\n",
        "\n",
        "    # Define image related variables\n",
        "    image_path = os.path.basename(url)\n",
        "    image_bytes = response.content\n",
        "    image_type = response.headers[\"Content-Type\"]\n",
        "\n",
        "    # Check for image type, currently only PNG or JPEG format are supported\n",
        "    if image_type not in {\"image/png\", \"image/jpeg\"}:\n",
        "        raise ValueError(\"Image can only be in PNG or JPEG format\")\n",
        "\n",
        "    # Write image data to a file\n",
        "    with open(image_path, \"wb\") as f:\n",
        "        f.write(image_bytes)\n",
        "    return image_path"
      ],
      "metadata": {
        "id": "N2qehdh-uwPF"
      },
      "execution_count": 8,
      "outputs": []
    },
    {
      "cell_type": "code",
      "source": [
        "import requests\n",
        "\n",
        "response = requests.get(\"https://fakestoreapi.com/products\")\n",
        "apiData = response.json()\n",
        "images = []\n",
        "for product in apiData:\n",
        "    images.append(product.get(\"image\"))\n",
        "\n",
        "num_of_images = len(images)\n",
        "print(images[num_of_images - 1])"
      ],
      "metadata": {
        "id": "i1MUWg7BKdZz"
      },
      "execution_count": null,
      "outputs": []
    },
    {
      "cell_type": "code",
      "source": [
        "# Download an image\n",
        "image_path = download_image(images[num_of_images - 1])\n",
        "\n",
        "print(image_path)"
      ],
      "metadata": {
        "id": "T-SVkhBIuz1l"
      },
      "execution_count": null,
      "outputs": []
    },
    {
      "cell_type": "code",
      "source": [
        "# Load the newly downloaded image\n",
        "user_image = Image.load_from_file(image_path)\n",
        "user_image.show()"
      ],
      "metadata": {
        "id": "ir7PEyDiu17s"
      },
      "execution_count": null,
      "outputs": []
    },
    {
      "cell_type": "code",
      "source": [
        "# Generate the visual captions for the image\n",
        "model.get_captions(\n",
        "    image=user_image,\n",
        "    number_of_results=1,\n",
        "    language=\"es\"\n",
        ")"
      ],
      "metadata": {
        "id": "YoVZxNqmu4OA"
      },
      "execution_count": null,
      "outputs": []
    },
    {
      "cell_type": "code",
      "source": [
        "os.remove(image_path)"
      ],
      "metadata": {
        "id": "nY3EAbWtKpiN"
      },
      "execution_count": 13,
      "outputs": []
    }
  ]
}