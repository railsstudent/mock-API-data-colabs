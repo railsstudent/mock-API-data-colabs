{
  "cells": [
    {
      "cell_type": "markdown",
      "metadata": {
        "id": "GtltgMbHrU20"
      },
      "source": [
        "# Overview\n",
        "\n",
        "Imagen on Vertex AI (image Generative AI) offers a variety of features:\n",
        "\n",
        "* Image generation\n",
        "* Image editing\n",
        "* Visual captioning\n",
        "* Visual question answering\n",
        "\n",
        "This notebook focuses on **Visual question answering** only.\n",
        "\n"
      ]
    },
    {
      "cell_type": "markdown",
      "metadata": {
        "id": "iEzBIdunsmw0"
      },
      "source": [
        "Objectives\n",
        "In this notebook, you will learn how to use the Vertex AI Python SDK to:\n",
        "\n",
        "* Make request to https://fakestoreapi.com/products to retrieve 20 images\n",
        "* Ask questions to the last image\n",
        "* Experiment with different parameters, such as:\n",
        "  * number of results to be generated\n",
        "  \n",
        "\n",
        "Resources:\n",
        "* https://cloud.google.com/vertex-ai/generative-ai/docs/image/overview\n",
        "* https://cloud.google.com/vertex-ai/generative-ai/docs/image/visual-question-answering\n",
        "* https://github.com/GoogleCloudPlatform/generative-ai/blob/main/vision/getting-started/visual_question_answering.ipynb"
      ]
    },
    {
      "cell_type": "markdown",
      "metadata": {
        "id": "2_IV9vunszwy"
      },
      "source": [
        "**Costs**\n",
        "* This notebook uses billable components of Google Cloud:\n",
        "  * Vertex AI (Imagen)\n",
        "* Learn about Vertex AI pricing and use the Pricing Calculator to generate a cost estimate based on your projected usage."
      ]
    },
    {
      "cell_type": "code",
      "execution_count": null,
      "metadata": {
        "id": "8XCIUvtCsiFI"
      },
      "outputs": [],
      "source": [
        "%pip install --upgrade --user google-cloud-aiplatform"
      ]
    },
    {
      "cell_type": "code",
      "execution_count": null,
      "metadata": {
        "id": "TRM5gvyFtJ74"
      },
      "outputs": [],
      "source": [
        "# Restart kernel after installs so that your environment can access the new packages\n",
        "import IPython\n",
        "\n",
        "app = IPython.Application.instance()\n",
        "app.kernel.do_shutdown(True)"
      ]
    },
    {
      "cell_type": "markdown",
      "metadata": {
        "id": "QzzvB7shtNdR"
      },
      "source": [
        "# Authenticate your notebook environment (Colab only)\n",
        "\n",
        "If you are running this notebook on Google Colab, you will need to authenticate your environment. To do this, run the new cell below. This step is not required if you are using Vertex AI Workbench."
      ]
    },
    {
      "cell_type": "code",
      "execution_count": 1,
      "metadata": {
        "id": "etSaktzktM35"
      },
      "outputs": [],
      "source": [
        "import sys\n",
        "\n",
        "# Additional authentication is required for Google Colab\n",
        "if \"google.colab\" in sys.modules:\n",
        "    # Authenticate user to Google Cloud\n",
        "    from google.colab import auth\n",
        "\n",
        "    auth.authenticate_user()"
      ]
    },
    {
      "cell_type": "code",
      "execution_count": 2,
      "metadata": {
        "id": "xI22zqQJtYOP"
      },
      "outputs": [],
      "source": [
        "# Define project information\n",
        "from google.colab import userdata\n",
        "PROJECT_ID = userdata.get('VERTEX_AI_PROJECT_ID')\n",
        "LOCATION = \"us-central1\"  # @param {type:\"string\"}\n",
        "\n",
        "# Initialize Vertex AI\n",
        "import vertexai\n",
        "\n",
        "vertexai.init(project=PROJECT_ID, location=LOCATION)"
      ]
    },
    {
      "cell_type": "markdown",
      "metadata": {
        "id": "XrSOG1_2iHFm"
      },
      "source": [
        "- Make request to https://fakestoreapi.com/products to retrieve the images."
      ]
    },
    {
      "cell_type": "code",
      "execution_count": null,
      "metadata": {
        "id": "4BCHXvcMiftW"
      },
      "outputs": [],
      "source": [
        "import requests\n",
        "\n",
        "response = requests.get(\"https://fakestoreapi.com/products\")\n",
        "apiData = response.json()\n",
        "images = []\n",
        "for product in apiData:\n",
        "    images.append(product.get(\"image\"))\n",
        "\n",
        "num_of_images = len(images)\n",
        "print(images[num_of_images - 1])"
      ]
    },
    {
      "cell_type": "markdown",
      "source": [
        "* Add a function to download image\n",
        "* Load the last women's shirt"
      ],
      "metadata": {
        "id": "_ex2phZ9ETnW"
      }
    },
    {
      "cell_type": "code",
      "source": [
        "from PIL import Image\n",
        "import requests\n",
        "import os\n",
        "\n",
        "def download_image(url: str) -> str:\n",
        "    \"\"\"Downloads an image from the specified URL.\"\"\"\n",
        "\n",
        "    # Send a get request to the url\n",
        "    response = requests.get(url)\n",
        "\n",
        "    if response.status_code != 200:\n",
        "        raise Exception(f\"Failed to download image from {url}\")\n",
        "\n",
        "    # Define image related variables\n",
        "    image_path = os.path.basename(url)\n",
        "    image_bytes = response.content\n",
        "    image_type = response.headers[\"Content-Type\"]\n",
        "\n",
        "    # Check for image type, currently only PNG or JPEG format are supported\n",
        "    if image_type not in {\"image/png\", \"image/jpeg\"}:\n",
        "        raise ValueError(\"Image can only be in PNG or JPEG format\")\n",
        "\n",
        "    # Write image data to a file\n",
        "    with open(image_path, \"wb\") as f:\n",
        "        f.write(image_bytes)\n",
        "    return image_path"
      ],
      "metadata": {
        "id": "RTgGM12PC2ss"
      },
      "execution_count": 53,
      "outputs": []
    },
    {
      "cell_type": "code",
      "source": [
        "from vertexai.preview.vision_models import Image as VertexImage\n",
        "\n",
        "image_path = download_image(images[num_of_images - 1])\n",
        "print(image_path)\n",
        "\n",
        "# Load the newly downloaded image\n",
        "shirt_image = VertexImage.load_from_file(image_path)\n",
        "shirt_image.show()"
      ],
      "metadata": {
        "id": "H3EMAyBmEZj8"
      },
      "execution_count": null,
      "outputs": []
    },
    {
      "cell_type": "markdown",
      "source": [
        "# Load the model\n",
        "\n",
        "The model names from Vertex AI Imagen have two components: model name and version number. The naming convention follow this format: @. For example, imagetext@001 represent the version 001 of the imagetext model."
      ],
      "metadata": {
        "id": "9gceIrAWDJwz"
      }
    },
    {
      "cell_type": "code",
      "source": [
        "from vertexai.preview.vision_models import ImageTextModel\n",
        "\n",
        "model_name = \"imagetext@001\"\n",
        "model = ImageTextModel.from_pretrained(model_name)"
      ],
      "metadata": {
        "id": "MP9lXLVXDL-7"
      },
      "execution_count": 56,
      "outputs": []
    },
    {
      "cell_type": "markdown",
      "metadata": {
        "id": "Njwc-prpth7X"
      },
      "source": [
        "# Ask questions to the image\n",
        "\n"
      ]
    },
    {
      "cell_type": "code",
      "source": [
        "def askAQuestion(image, question, number_of_results=1):\n",
        "  answers = model.ask_question(image=image, question=question, number_of_results=number_of_results)\n",
        "  return answers"
      ],
      "metadata": {
        "id": "Wwdtt8_jE_DD"
      },
      "execution_count": 3,
      "outputs": []
    },
    {
      "cell_type": "code",
      "source": [
        "answers = askAQuestion(image=shirt_image, question=\"What is this image about?\", number_of_results=3)\n",
        "print (answers)"
      ],
      "metadata": {
        "id": "4JFkvMMyFIq9"
      },
      "execution_count": null,
      "outputs": []
    },
    {
      "cell_type": "markdown",
      "source": [
        "# Ask for the existence of the items\n",
        "\n",
        "\n",
        "* Ask the model is there a pair of jeans?\n",
        "* Ask the model is there a pair of shoes?\n",
        "* Ask the model is there a backpack?\n",
        "* Ask the model is there a shirt?"
      ],
      "metadata": {
        "id": "TNrCym1MFeWi"
      }
    },
    {
      "cell_type": "code",
      "source": [
        "answers = askAQuestion(image=shirt_image, question=\"Is there a pair of jeans?\")\n",
        "print (answers[0])\n",
        "\n",
        "answers = askAQuestion(image=shirt_image, question=\"Is there a pair of shoes?\")\n",
        "print (answers[0])\n",
        "\n",
        "answers = askAQuestion(image=shirt_image, question=\"Is there a backpack?\")\n",
        "print (answers[0])\n",
        "\n",
        "answers = askAQuestion(image=shirt_image, question=\"Is there a shirt?\")\n",
        "print (answers[0])"
      ],
      "metadata": {
        "id": "QBMhfcbwFTUr"
      },
      "execution_count": null,
      "outputs": []
    },
    {
      "cell_type": "markdown",
      "source": [
        "# Ask for the attributes of the items\n",
        "\n",
        "* Ask for the color of the pair of the jeans?\n",
        "* Ask the model whether the Jeans are ripped?"
      ],
      "metadata": {
        "id": "BVPFF_UNF0Ks"
      }
    },
    {
      "cell_type": "code",
      "source": [
        "answers = askAQuestion(image=shirt_image, question=\"What is the color of the pair of jeans?\", number_of_results=2)\n",
        "print (answers)\n",
        "\n",
        "answers = askAQuestion(image=shirt_image, question=\"Is the pair of jeans ripped?\")\n",
        "print (answers[0])"
      ],
      "metadata": {
        "id": "imIJH1Y5F486"
      },
      "execution_count": null,
      "outputs": []
    },
    {
      "cell_type": "markdown",
      "source": [
        "# Ask some questions about the shoes\n",
        "\n",
        "* What is the color of the shoes?\n",
        "* How many shoes are on the image?\n",
        "* Do the shoes have shoe laces?"
      ],
      "metadata": {
        "id": "usu5fYXoGNq-"
      }
    },
    {
      "cell_type": "code",
      "source": [
        "answers = askAQuestion(image=shirt_image, question=\"What is the color of the shoes?\")\n",
        "print (answers[0])\n",
        "\n",
        "answers = askAQuestion(image=shirt_image, question=\"How many shoes are on the image?\")\n",
        "print (answers[0])\n",
        "\n",
        "answers = askAQuestion(image=shirt_image, question=\"Do the shoes have shoe laces?\")\n",
        "print (answers[0])\n",
        "\n",
        "answers = askAQuestion(image=shirt_image, question=\"Do you see the white shoe laces on the shoes?\")\n",
        "print (answers[0])"
      ],
      "metadata": {
        "id": "ycUHiKKgGUP_"
      },
      "execution_count": null,
      "outputs": []
    },
    {
      "cell_type": "markdown",
      "source": [
        "# Ask some questions about the t-shirt\n",
        "\n",
        "* The color of the t-shirt\n",
        "* Does the t-shirt have a heart?\n",
        "* What are the words on the t-shirt?\n",
        "* What is the color of the heart?\n",
        "* Is the shirt long-sleeved or short-sleeved?\n"
      ],
      "metadata": {
        "id": "FcQOmHD9G7io"
      }
    },
    {
      "cell_type": "code",
      "source": [
        "answers = askAQuestion(image=shirt_image, question=\"What is the color of the t-shirt?\", number_of_results=3)\n",
        "print (answers)\n",
        "\n",
        "answers = askAQuestion(image=shirt_image, question=\"Does the t-shirt have a heart?\")\n",
        "print (answers[0])\n",
        "\n",
        "answers = askAQuestion(image=shirt_image, question=\"What are the words sewn on the t-shirt?\")\n",
        "print (answers[0])\n",
        "\n",
        "answers = askAQuestion(image=shirt_image, question=\"What is the color of the heart on the shirt?\")\n",
        "print (answers[0])\n",
        "\n",
        "answers = askAQuestion(image=shirt_image, question=\"Is the shirt long-sleeved or short-sleeved?\")\n",
        "print (answers[0])"
      ],
      "metadata": {
        "id": "xZBuFFYWHAyg"
      },
      "execution_count": null,
      "outputs": []
    },
    {
      "cell_type": "markdown",
      "source": [
        "* Remove temporary file"
      ],
      "metadata": {
        "id": "1s4C7EBTEqut"
      }
    },
    {
      "cell_type": "code",
      "source": [
        "os.remove(image_path)"
      ],
      "metadata": {
        "id": "8_zHkpyBEJMc"
      },
      "execution_count": 65,
      "outputs": []
    }
  ],
  "metadata": {
    "colab": {
      "provenance": []
    },
    "kernelspec": {
      "display_name": "Python 3",
      "name": "python3"
    },
    "language_info": {
      "name": "python"
    }
  },
  "nbformat": 4,
  "nbformat_minor": 0
}